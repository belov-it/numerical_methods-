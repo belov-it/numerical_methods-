{
 "cells": [
  {
   "cell_type": "code",
   "execution_count": 6,
   "id": "bfc7cae3",
   "metadata": {},
   "outputs": [],
   "source": [
    "import math\n",
    "import numpy as np\n",
    "import random"
   ]
  },
  {
   "cell_type": "code",
   "execution_count": 92,
   "id": "58a9aa70",
   "metadata": {},
   "outputs": [],
   "source": [
    "def findMaxElem(A,n):\n",
    "    \"A - квадратная матрица, n - размер\"\n",
    "    \"Возвращает максимальный элемент матриц и  вектор с его индексами\"\n",
    "    max = A[0,1]\n",
    "    maxIdx = [0,1]\n",
    "    for i in range(n):\n",
    "        for j in range(n):\n",
    "            if i==j:\n",
    "                continue\n",
    "            if max < A[i,j]:\n",
    "                max = A[i,j]\n",
    "                maxIdx = [i,j]\n",
    "    return max,maxIdx[0],maxIdx[1]\n",
    "                \n",
    "def createRandomMatrix(n):\n",
    "    \"генерирует матрицу nxn\"\n",
    "    A = np.zeros((n,n))\n",
    "    for i in range(n):\n",
    "        for j in range(n):\n",
    "            A[i][j] = random.randint(1,10)\n",
    "    return A\n",
    "\n",
    "def createRotateMatrix(n,phi,i,j):\n",
    "    \"Матрица поворота\"\n",
    "    \"n - размер квадратной матрицы, phi - угол поворота\"\n",
    "    M = np.eye(n)\n",
    "    M[i,i] = np.cos(phi)\n",
    "    M[i,j] = -np.sin(phi)\n",
    "    M[j,i] = np.sin(phi)\n",
    "    M[j,j] = np.cos(phi)\n",
    "    return M\n",
    "\n",
    "def getPhi(maxElem, aii, ajj):\n",
    "    \"maxElem - максимальный элемент матрицы, в которой мы собираемся его уничтожить\"\n",
    "    phi = 1/2*(np.arctan(2*maxElem/(aii-ajj)))\n",
    "    return phi\n",
    "\n",
    "def inverseMatrix(M):\n",
    "    return np.linalg.inv(M)\n",
    "\n",
    "def transposeMatrix(M):\n",
    "    return M.transpose()"
   ]
  },
  {
   "cell_type": "code",
   "execution_count": 115,
   "id": "9e4303a3",
   "metadata": {},
   "outputs": [],
   "source": [
    "def hilbertMatrix(n):\n",
    "    H = np.zeros((n,n))\n",
    "    for i in range(n):\n",
    "        for j in range(n):\n",
    "            H[i,j] = 1/(i+1+j+1-1)\n",
    "    return H"
   ]
  },
  {
   "cell_type": "code",
   "execution_count": 284,
   "id": "33635096",
   "metadata": {},
   "outputs": [],
   "source": [
    "def JacobyMethod(M,n):\n",
    "    \"Возвращает собственные числа матрицы М методом Якоби\"\n",
    "    eps = 1.0e-12\n",
    "    maxElem,i,j = findMaxElem(M,n)\n",
    "    phi = getPhi(maxElem,i,j)\n",
    "    R = createRotateMatrix(n,phi,i,j)\n",
    "    for k in range(10000):\n",
    "        M = np.dot(np.dot(transposeMatrix(R),M),R)\n",
    "        maxElem, i , j = findMaxElem(M,n)\n",
    "        if abs(maxElem) < eps:\n",
    "            return np.diagonal(M)\n",
    "        phi = getPhi(maxElem, M[i,i], M[j,j])\n",
    "        R = createRotateMatrix(n,phi,i,j)\n",
    "    print(\"Слишком много итераций\")\n",
    "    return np.diagonal(M)"
   ]
  },
  {
   "cell_type": "code",
   "execution_count": 300,
   "id": "3cdf6f29",
   "metadata": {},
   "outputs": [],
   "source": [
    "#Проверка на матрице Гильберта\n",
    "n=4\n",
    "H = hilbertMatrix(n)"
   ]
  },
  {
   "cell_type": "code",
   "execution_count": 301,
   "id": "f979a21f",
   "metadata": {},
   "outputs": [
    {
     "data": {
      "text/plain": [
       "array([6.62799777e-02, 1.49929765e+00, 1.10516146e-01, 9.67023040e-05])"
      ]
     },
     "execution_count": 301,
     "metadata": {},
     "output_type": "execute_result"
    }
   ],
   "source": [
    "JacobyMethod(H,n)"
   ]
  },
  {
   "cell_type": "code",
   "execution_count": 302,
   "id": "46e9661e",
   "metadata": {},
   "outputs": [],
   "source": [
    "H = hilbertMatrix(n)"
   ]
  },
  {
   "cell_type": "code",
   "execution_count": 303,
   "id": "1cd18874",
   "metadata": {},
   "outputs": [
    {
     "data": {
      "text/plain": [
       "array([9.67023040e-05, 6.73827361e-03, 1.69141220e-01, 1.50021428e+00])"
      ]
     },
     "execution_count": 303,
     "metadata": {},
     "output_type": "execute_result"
    }
   ],
   "source": [
    "np.linalg.eigh(H)[0]"
   ]
  },
  {
   "cell_type": "code",
   "execution_count": 304,
   "id": "841a0352",
   "metadata": {},
   "outputs": [],
   "source": [
    "#Проверка на произвольной матрице\n",
    "a = np.array([[3,21,12],\n",
    "    [21,3,55],\n",
    "    [12,55,3]])"
   ]
  },
  {
   "cell_type": "code",
   "execution_count": 305,
   "id": "9f350f29",
   "metadata": {},
   "outputs": [
    {
     "data": {
      "text/plain": [
       "array([[ 3, 21, 12],\n",
       "       [21,  3, 55],\n",
       "       [12, 55,  3]])"
      ]
     },
     "execution_count": 305,
     "metadata": {},
     "output_type": "execute_result"
    }
   ],
   "source": [
    "a"
   ]
  },
  {
   "cell_type": "code",
   "execution_count": 306,
   "id": "4983aee6",
   "metadata": {},
   "outputs": [
    {
     "data": {
      "text/plain": [
       "array([-52.79596666,  -4.81066517,  66.60663184])"
      ]
     },
     "execution_count": 306,
     "metadata": {},
     "output_type": "execute_result"
    }
   ],
   "source": [
    "np.linalg.eigh(a)[0]"
   ]
  },
  {
   "cell_type": "code",
   "execution_count": 307,
   "id": "45ad0249",
   "metadata": {},
   "outputs": [
    {
     "data": {
      "text/plain": [
       "array([ -4.81066635, -52.79596549,  66.60663184])"
      ]
     },
     "execution_count": 307,
     "metadata": {},
     "output_type": "execute_result"
    }
   ],
   "source": [
    "JacobyMethod(a,3)"
   ]
  }
 ],
 "metadata": {
  "kernelspec": {
   "display_name": "Python 3",
   "language": "python",
   "name": "python3"
  },
  "language_info": {
   "codemirror_mode": {
    "name": "ipython",
    "version": 3
   },
   "file_extension": ".py",
   "mimetype": "text/x-python",
   "name": "python",
   "nbconvert_exporter": "python",
   "pygments_lexer": "ipython3",
   "version": "3.8.8"
  }
 },
 "nbformat": 4,
 "nbformat_minor": 5
}

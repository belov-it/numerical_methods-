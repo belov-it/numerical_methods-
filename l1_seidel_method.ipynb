{
 "cells": [
  {
   "cell_type": "code",
   "execution_count": 1,
   "id": "8138159b",
   "metadata": {},
   "outputs": [],
   "source": [
    "import numpy as np #модуль для работы с матрицами \n",
    "import math #модуль для работы с математическими функциями\n",
    "import random # модуль для генерирования случаных чисел"
   ]
  },
  {
   "cell_type": "markdown",
   "id": "0e3a4bdd",
   "metadata": {},
   "source": [
    "Решение СЛАУ методом итераций Зейделя"
   ]
  },
  {
   "cell_type": "code",
   "execution_count": 23,
   "id": "41537bfc",
   "metadata": {},
   "outputs": [],
   "source": [
    "\n",
    "def slauZeidel2(A,b):\n",
    "    \"Принимает матрицу А и столбец b\"\n",
    "    \"Возвращает вектор х - решение и количество итераций к\"\n",
    "    eps = 0.01\n",
    "    n = len(b)\n",
    "    x = np.zeros(n,'float')\n",
    "    err = np.copy(b)\n",
    "    for k in range(100):\n",
    "        xLast = np.copy(x)\n",
    "        for i in range(n):\n",
    "            x[i] = x[i] + (b[i] - np.dot(A[i],x))/A[i,i]\n",
    "        for i in range(n):\n",
    "            #err[i] = b[i] - np.dot(A[i],x)\n",
    "            err[i] = x[i]-xLast[i]\n",
    "        if np.dot(err,err) < eps**2:\n",
    "            return x, k\n",
    "    print(\"Слишком много шагов\")\n",
    "    return x, k"
   ]
  },
  {
   "cell_type": "code",
   "execution_count": 57,
   "id": "cf07ebaa",
   "metadata": {},
   "outputs": [],
   "source": [
    "def slauZeidel(A,b):\n",
    "    \"Принимает матрицу А и столбец b\"\n",
    "    \"Алгоритм доработан, матрица приводится к нормальному виду\"\n",
    "    \"Возвращает вектор х - решение и количество итераций к\"\n",
    "    eps = 0.01\n",
    "    n = len(b)\n",
    "    x = np.zeros(n,'float')\n",
    "    err = np.copy(b)\n",
    "    B = np.dot(A.transpose(),A)\n",
    "    c = np.dot(A.transpose(),b)\n",
    "    for k in range(1000):\n",
    "        xLast = np.copy(x)\n",
    "        for i in range(n):\n",
    "            x[i] = x[i] + (c[i] - np.dot(B[i],x))/B[i,i]\n",
    "        for i in range(n):\n",
    "            err[i] = b[i] - np.dot(A[i],x)\n",
    "        if np.dot(err,err) < eps**2:\n",
    "            return x, k\n",
    "    #print(\"Слишком много шагов\")\n",
    "    return x, k"
   ]
  },
  {
   "cell_type": "code",
   "execution_count": 41,
   "id": "2f4a7cd2",
   "metadata": {},
   "outputs": [
    {
     "data": {
      "text/plain": [
       "array([ 0.9394889 ,  0.26518434, -0.35559684,  0.17126165])"
      ]
     },
     "execution_count": 41,
     "metadata": {},
     "output_type": "execute_result"
    }
   ],
   "source": [
    "x"
   ]
  },
  {
   "cell_type": "code",
   "execution_count": 42,
   "id": "958ea6f6",
   "metadata": {},
   "outputs": [
    {
     "data": {
      "text/plain": [
       "array([ 0.93601896,  0.26184834, -0.3507109 ,  0.17535545])"
      ]
     },
     "execution_count": 42,
     "metadata": {},
     "output_type": "execute_result"
    }
   ],
   "source": [
    "np.linalg.solve(A,b)"
   ]
  },
  {
   "cell_type": "code",
   "execution_count": 51,
   "id": "69ac784f",
   "metadata": {},
   "outputs": [],
   "source": [
    "def createRandomMatrix(n):\n",
    "    \"генерирует матрицу nxn\"\n",
    "    A = np.zeros((n,n))\n",
    "    for i in range(n):\n",
    "        for j in range(n):\n",
    "            A[i][j] = random.randint(1,10)\n",
    "    return A\n",
    "def createRandomVector(n):\n",
    "    b = np.zeros(n)\n",
    "    for i in range(n):\n",
    "        b[i] = random.randint(1,10)\n",
    "    return b\n",
    "\n",
    "A = createRandomMatrix(5)#матрица 5x5\n",
    "b = createRandomVector(5)#столбец 5x1"
   ]
  },
  {
   "cell_type": "code",
   "execution_count": 58,
   "id": "29870744",
   "metadata": {},
   "outputs": [
    {
     "data": {
      "text/plain": [
       "array([[ 1.,  4.,  9.,  5.,  7.],\n",
       "       [ 3., 10.,  4.,  3.,  2.],\n",
       "       [ 3.,  4.,  7.,  6., 10.],\n",
       "       [ 6.,  7., 10.,  8., 10.],\n",
       "       [ 5.,  3., 10.,  8.,  1.]])"
      ]
     },
     "execution_count": 58,
     "metadata": {},
     "output_type": "execute_result"
    }
   ],
   "source": [
    "A"
   ]
  },
  {
   "cell_type": "code",
   "execution_count": 59,
   "id": "d974eff0",
   "metadata": {},
   "outputs": [
    {
     "data": {
      "text/plain": [
       "array([ 9., 10., 10.,  8.,  3.])"
      ]
     },
     "execution_count": 59,
     "metadata": {},
     "output_type": "execute_result"
    }
   ],
   "source": [
    "b"
   ]
  },
  {
   "cell_type": "code",
   "execution_count": 60,
   "id": "e658f285",
   "metadata": {},
   "outputs": [
    {
     "data": {
      "text/plain": [
       "array([-2.89292543,  1.35372849, -1.32887189,  3.30210325,  0.27533461])"
      ]
     },
     "execution_count": 60,
     "metadata": {},
     "output_type": "execute_result"
    }
   ],
   "source": [
    "np.linalg.solve(A,b)"
   ]
  },
  {
   "cell_type": "code",
   "execution_count": 61,
   "id": "ad5c5cc7",
   "metadata": {},
   "outputs": [],
   "source": [
    "x,k = slauZeidel(A,b)"
   ]
  },
  {
   "cell_type": "code",
   "execution_count": 62,
   "id": "d4f143ea",
   "metadata": {},
   "outputs": [
    {
     "data": {
      "text/plain": [
       "array([-2.83272248,  1.34270527, -1.27209481,  3.19553238,  0.27991597])"
      ]
     },
     "execution_count": 62,
     "metadata": {},
     "output_type": "execute_result"
    }
   ],
   "source": [
    "x"
   ]
  }
 ],
 "metadata": {
  "kernelspec": {
   "display_name": "Python 3",
   "language": "python",
   "name": "python3"
  },
  "language_info": {
   "codemirror_mode": {
    "name": "ipython",
    "version": 3
   },
   "file_extension": ".py",
   "mimetype": "text/x-python",
   "name": "python",
   "nbconvert_exporter": "python",
   "pygments_lexer": "ipython3",
   "version": "3.8.8"
  }
 },
 "nbformat": 4,
 "nbformat_minor": 5
}

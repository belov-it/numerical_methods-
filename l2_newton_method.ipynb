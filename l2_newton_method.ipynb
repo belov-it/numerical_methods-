{
 "cells": [
  {
   "cell_type": "code",
   "execution_count": 1,
   "id": "b45f2516",
   "metadata": {},
   "outputs": [],
   "source": [
    "import math\n",
    "import numpy as np\n",
    "import matplotlib.pyplot as plt"
   ]
  },
  {
   "cell_type": "code",
   "execution_count": 2,
   "id": "095b8350",
   "metadata": {},
   "outputs": [],
   "source": [
    "def dfdx(f,x):\n",
    "    \"Возвращает производную функции\"\n",
    "    h=0.01\n",
    "    return (f(x+h)-f(x))/h"
   ]
  },
  {
   "cell_type": "code",
   "execution_count": 3,
   "id": "61761fe2",
   "metadata": {},
   "outputs": [],
   "source": [
    "def f(x):\n",
    "    return x**2 - 25"
   ]
  },
  {
   "cell_type": "code",
   "execution_count": 5,
   "id": "c14cecc4",
   "metadata": {},
   "outputs": [],
   "source": [
    "#Метод Ньютона для решения уравнений\n",
    "x = 1\n",
    "eps = 0.01\n",
    "for k in range(100):\n",
    "    xLast = x\n",
    "    x = xLast - f(xLast)/dfdx(f,xLast)\n",
    "    if (f(x))**2<eps**2:\n",
    "        break"
   ]
  },
  {
   "cell_type": "code",
   "execution_count": 6,
   "id": "276c488c",
   "metadata": {},
   "outputs": [
    {
     "data": {
      "text/plain": [
       "5.000038323307951"
      ]
     },
     "execution_count": 6,
     "metadata": {},
     "output_type": "execute_result"
    }
   ],
   "source": [
    "x"
   ]
  },
  {
   "cell_type": "code",
   "execution_count": 7,
   "id": "8c006fe5",
   "metadata": {},
   "outputs": [],
   "source": [
    "x = np.linspace(0, 10, 50)"
   ]
  },
  {
   "cell_type": "code",
   "execution_count": 8,
   "id": "8588b052",
   "metadata": {},
   "outputs": [
    {
     "data": {
      "text/plain": [
       "[<matplotlib.lines.Line2D at 0x15eb1c0bf40>]"
      ]
     },
     "execution_count": 8,
     "metadata": {},
     "output_type": "execute_result"
    },
    {
     "data": {
      "image/png": "[encoded data removed]",
      "text/plain": [
       "<Figure size 432x288 with 1 Axes>"
      ]
     },
     "metadata": {
      "needs_background": "light"
     },
     "output_type": "display_data"
    }
   ],
   "source": [
    "plt.title(\"График f(x)\") # заголовок\n",
    "plt.xlabel(\"x\") # ось абсцисс\n",
    "plt.ylabel(\"y\") # ось ординат\n",
    "plt.grid()      # включение отображение сетки\n",
    "plt.plot(x, f(x))  # построение графика"
   ]
  },
  {
   "cell_type": "code",
   "execution_count": 9,
   "id": "695ae984",
   "metadata": {},
   "outputs": [],
   "source": [
    "#Метод Ньютона для матриц"
   ]
  },
  {
   "cell_type": "code",
   "execution_count": 10,
   "id": "b510a22b",
   "metadata": {},
   "outputs": [],
   "source": [
    "def f1(X):\n",
    "    return 2*X[0]**2+X[1]\n",
    "\n",
    "def f2(X):\n",
    "    return X[0]+X[1]**2+2\n",
    "\n",
    "F = [f1,f2]\n",
    "\n",
    "def func1(X):\n",
    "    return [2*X[0]**2+X[1],\n",
    "           X[0]+X[1]**2+2]\n",
    "\n",
    "def func(x):\n",
    "    return [x[0]*math.cos(x[1])-4,\n",
    "           x[0]*x[1]-x[1]-5]\n",
    "def f3(x):\n",
    "    return x[0]*math.cos(x[1])-4\n",
    "def f4(x):\n",
    "    return x[0]*x[1]-x[1]-5\n",
    "F2 = [f3,f4]"
   ]
  },
  {
   "cell_type": "code",
   "execution_count": 11,
   "id": "e77fa8c3",
   "metadata": {},
   "outputs": [],
   "source": [
    "def Jac(F,X):\n",
    "    \"Принимает вектор из функций и вектор-точку\"\n",
    "    \"Возвращает матрицу Якобиан в этой точке\"\n",
    "    n = len(X)\n",
    "    h=0.001\n",
    "    jac = np.zeros((n,n),'float')\n",
    "    for i in range(n):\n",
    "        for j in range(n):\n",
    "            tmp = X[j]\n",
    "            f0 = F[i](X)\n",
    "            X[j] = tmp+h\n",
    "            f1 = F[i](X)\n",
    "            jac[i,j] = (f1-f0)/h\n",
    "            X[j] = tmp\n",
    "    return jac"
   ]
  },
  {
   "cell_type": "code",
   "execution_count": 12,
   "id": "48b1efc0",
   "metadata": {},
   "outputs": [],
   "source": [
    "#алгорит Ньютона\n",
    "eps = 0.01\n",
    "n=2\n",
    "xRes = []\n",
    "x = np.array([1.,1.])\n",
    "for k in range(100):\n",
    "    for i in range(n):\n",
    "        x[i] = x[i] - np.dot(np.linalg.inv(Jac(F2,x))[i],[F2[0](x),F2[1](x)])\n",
    "    xRes.append(x)\n",
    "    if np.dot([F2[0](x),F2[1](x)],[F2[0](x),F2[1](x)])<eps**2:\n",
    "        break\n",
    "                             "
   ]
  },
  {
   "cell_type": "code",
   "execution_count": 13,
   "id": "17f5aee6",
   "metadata": {},
   "outputs": [
    {
     "data": {
      "text/plain": [
       "array([6.50438764, 0.90842125])"
      ]
     },
     "execution_count": 13,
     "metadata": {},
     "output_type": "execute_result"
    }
   ],
   "source": [
    "x"
   ]
  },
  {
   "cell_type": "code",
   "execution_count": 14,
   "id": "0139c789",
   "metadata": {},
   "outputs": [],
   "source": [
    "from scipy.optimize import root"
   ]
  },
  {
   "cell_type": "code",
   "execution_count": 15,
   "id": "c9e83eb0",
   "metadata": {},
   "outputs": [],
   "source": [
    "sol = root(func,[1,1])"
   ]
  },
  {
   "cell_type": "code",
   "execution_count": 16,
   "id": "c206feed",
   "metadata": {},
   "outputs": [
    {
     "data": {
      "text/plain": [
       "array([6.50409711, 0.90841421])"
      ]
     },
     "execution_count": 16,
     "metadata": {},
     "output_type": "execute_result"
    }
   ],
   "source": [
    "sol.x #проверка решения"
   ]
  },
  {
   "cell_type": "code",
   "execution_count": null,
   "id": "45e11477",
   "metadata": {},
   "outputs": [],
   "source": []
  }
 ],
 "metadata": {
  "kernelspec": {
   "display_name": "Python 3",
   "language": "python",
   "name": "python3"
  },
  "language_info": {
   "codemirror_mode": {
    "name": "ipython",
    "version": 3
   },
   "file_extension": ".py",
   "mimetype": "text/x-python",
   "name": "python",
   "nbconvert_exporter": "python",
   "pygments_lexer": "ipython3",
   "version": "3.8.8"
  }
 },
 "nbformat": 4,
 "nbformat_minor": 5
}
